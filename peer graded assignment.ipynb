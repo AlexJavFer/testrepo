{
  "metadata": {
    "language_info": {
      "codemirror_mode": {
        "name": "python",
        "version": 3
      },
      "file_extension": ".py",
      "mimetype": "text/x-python",
      "name": "python",
      "nbconvert_exporter": "python",
      "pygments_lexer": "ipython3",
      "version": "3.8"
    },
    "kernelspec": {
      "name": "python",
      "display_name": "Pyolite",
      "language": "python"
    }
  },
  "nbformat_minor": 4,
  "nbformat": 4,
  "cells": [
    {
      "cell_type": "markdown",
      "source": "# My Jupyter Notebook on IBM Watson Studio",
      "metadata": {}
    },
    {
      "cell_type": "markdown",
      "source": "__Alexander Javier__<br>\nData Scientist",
      "metadata": {}
    },
    {
      "cell_type": "markdown",
      "source": "_I am interested in data science because I think this is a growing field with many opportunities._<br>\n_Currently I work as a Reporting Analyst and I think that data science is a field in which I can keep growing as a professional._",
      "metadata": {}
    },
    {
      "cell_type": "markdown",
      "source": "### This code is supposed to add 1+1 and give the result.",
      "metadata": {}
    },
    {
      "cell_type": "code",
      "source": "1+1",
      "metadata": {
        "trusted": true
      },
      "execution_count": 1,
      "outputs": [
        {
          "execution_count": 1,
          "output_type": "execute_result",
          "data": {
            "text/plain": "2"
          },
          "metadata": {}
        }
      ]
    },
    {
      "cell_type": "markdown",
      "source": "- Alexander\n- Javier\n- Ferreiras\n---\n<a href=\"https://www.google.com/\">Google Home Page</a>\n\n1. apple\n1. pear\n1. banana\n1. orange",
      "metadata": {}
    }
  ]
}